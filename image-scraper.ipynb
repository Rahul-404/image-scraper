{
 "cells": [
  {
   "cell_type": "markdown",
   "metadata": {},
   "source": [
    "## Importing Libraries"
   ]
  },
  {
   "cell_type": "code",
   "execution_count": 2,
   "metadata": {},
   "outputs": [],
   "source": [
    "import requests\n",
    "import logging\n",
    "import os\n",
    "from bs4 import BeautifulSoup\n",
    "from urllib.request import urlopen"
   ]
  },
  {
   "cell_type": "markdown",
   "metadata": {},
   "source": [
    "### Taking URL to ping images"
   ]
  },
  {
   "cell_type": "code",
   "execution_count": 51,
   "metadata": {},
   "outputs": [],
   "source": [
    "query = \"virat kohli\"\n",
    "\n",
    "url = f\"https://www.google.com/search?sca_esv=e6c9a3ea3a06ea35&sca_upv=1&sxsrf=ADLYWIJbZ9ZB9K1oLqC9IBZ6iAMPqVboYw:1717499225999&q={query}&tbm=isch&source=lnms&prmd=invsmbtz&sa=X&ved=2ahUKEwjS55Ga58GGAxXjdPUHHb87AiwQ0pQJegQIExAB&biw=1366&bih=647&dpr=1\""
   ]
  },
  {
   "cell_type": "code",
   "execution_count": 52,
   "metadata": {},
   "outputs": [
    {
     "data": {
      "text/plain": [
       "'https://www.google.com/search?sca_esv=e6c9a3ea3a06ea35&sca_upv=1&sxsrf=ADLYWIJbZ9ZB9K1oLqC9IBZ6iAMPqVboYw:1717499225999&q=virat kohli&tbm=isch&source=lnms&prmd=invsmbtz&sa=X&ved=2ahUKEwjS55Ga58GGAxXjdPUHHb87AiwQ0pQJegQIExAB&biw=1366&bih=647&dpr=1'"
      ]
     },
     "execution_count": 52,
     "metadata": {},
     "output_type": "execute_result"
    }
   ],
   "source": [
    "url"
   ]
  },
  {
   "cell_type": "markdown",
   "metadata": {},
   "source": [
    "### Collecting respponse from URL"
   ]
  },
  {
   "cell_type": "code",
   "execution_count": 53,
   "metadata": {},
   "outputs": [],
   "source": [
    "response = requests.get(url)"
   ]
  },
  {
   "cell_type": "code",
   "execution_count": 54,
   "metadata": {},
   "outputs": [
    {
     "data": {
      "text/plain": [
       "<Response [200]>"
      ]
     },
     "execution_count": 54,
     "metadata": {},
     "output_type": "execute_result"
    }
   ],
   "source": [
    "response"
   ]
  },
  {
   "cell_type": "markdown",
   "metadata": {},
   "source": [
    "### Parsing Content to html content"
   ]
  },
  {
   "cell_type": "code",
   "execution_count": 55,
   "metadata": {},
   "outputs": [],
   "source": [
    "soup = BeautifulSoup(response.content, \"html.parser\")"
   ]
  },
  {
   "cell_type": "code",
   "execution_count": 56,
   "metadata": {},
   "outputs": [],
   "source": [
    "image_tags = soup.find_all(\"img\")"
   ]
  },
  {
   "cell_type": "code",
   "execution_count": 57,
   "metadata": {},
   "outputs": [
    {
     "data": {
      "text/plain": [
       "[<img alt=\"Google\" class=\"kgJEQe\" src=\"/images/branding/searchlogo/1x/googlelogo_desk_heirloom_color_150x55dp.gif\"/>,\n",
       " <img alt=\"\" class=\"DS1iW\" src=\"https://encrypted-tbn0.gstatic.com/images?q=tbn:ANd9GcSApOD8cC7Jh33c0VqbcFkcmx0og9wr1DYsD50a8Tp3p-0I33M_SuuLXA0Kizk&amp;s\"/>,\n",
       " <img alt=\"\" class=\"DS1iW\" src=\"https://encrypted-tbn0.gstatic.com/images?q=tbn:ANd9GcTg-8yqYAlz5YOVL6N0VIX5YsJW3Rr5-gehZOFAiaZXjYyIWWScrOS5YCeNnQ&amp;s\"/>,\n",
       " <img alt=\"\" class=\"DS1iW\" src=\"https://encrypted-tbn0.gstatic.com/images?q=tbn:ANd9GcQbYmc6mwMqUdtsy1atMs5DqIE01PDNI44oe4GsTsAegCeDhONVUgfGFVYsOHU&amp;s\"/>,\n",
       " <img alt=\"\" class=\"DS1iW\" src=\"https://encrypted-tbn0.gstatic.com/images?q=tbn:ANd9GcQVXxOgOiQqTulmHn1GvJWquRbsttvStpZWU9LjlBdGfXJ_As1-_Fe688h7QQ&amp;s\"/>,\n",
       " <img alt=\"\" class=\"DS1iW\" src=\"https://encrypted-tbn0.gstatic.com/images?q=tbn:ANd9GcTSXAAowoe0NgqE0pqClijI-yiRHh6rTGtVdCFlASGdLbACDc387hCvU2vNDg&amp;s\"/>,\n",
       " <img alt=\"\" class=\"DS1iW\" src=\"https://encrypted-tbn0.gstatic.com/images?q=tbn:ANd9GcQZHFXnxqfUzhsxgkbAOa5GKnokACUF1sdIMXmDVmJk15snU-wnhanIH_amsQ&amp;s\"/>,\n",
       " <img alt=\"\" class=\"DS1iW\" src=\"https://encrypted-tbn0.gstatic.com/images?q=tbn:ANd9GcQFGtFjZTj4_a9Idi_Nwj4s26E_AYky39Bwgqw2dTOJ2ktzXhUZkEJBul6Zww&amp;s\"/>,\n",
       " <img alt=\"\" class=\"DS1iW\" src=\"https://encrypted-tbn0.gstatic.com/images?q=tbn:ANd9GcQq8X0nLNaCzy7-IB3JuFXdBf8TU8Osb9_3kM_zz_nV_7K3F5pk8RPNXJHQB-M&amp;s\"/>,\n",
       " <img alt=\"\" class=\"DS1iW\" src=\"https://encrypted-tbn0.gstatic.com/images?q=tbn:ANd9GcTQ0h9qMM17idjQuauwiQPwCsUiPqf4uyNrji1FdBzlUb7LVw39aLo5CCzCLFE&amp;s\"/>,\n",
       " <img alt=\"\" class=\"DS1iW\" src=\"https://encrypted-tbn0.gstatic.com/images?q=tbn:ANd9GcQT5IoMXUQCHhtZPp9KfonIJmsBc_tLgREuWeTZfe8lwhGmMSsMPb3m9lHLbME&amp;s\"/>,\n",
       " <img alt=\"\" class=\"DS1iW\" src=\"https://encrypted-tbn0.gstatic.com/images?q=tbn:ANd9GcRKWjUxa6DluLFfg6zxWvT2ZaWgqo0LHNi8XbEandkdODvwhmlXenutLDoRBsE&amp;s\"/>,\n",
       " <img alt=\"\" class=\"DS1iW\" src=\"https://encrypted-tbn0.gstatic.com/images?q=tbn:ANd9GcQG-IeJNQo4JHikQM-jWroiX2HPL_XGGMVS7LSd2KUUcVvc0IFpvWkMOhnX2w&amp;s\"/>,\n",
       " <img alt=\"\" class=\"DS1iW\" src=\"https://encrypted-tbn0.gstatic.com/images?q=tbn:ANd9GcRYyxfP5wTKQz_X-F4iucmm1AdJvavMlh-7eInH0wUmFSV2CQQpvV3QZ6hScb0&amp;s\"/>,\n",
       " <img alt=\"\" class=\"DS1iW\" src=\"https://encrypted-tbn0.gstatic.com/images?q=tbn:ANd9GcTvpKBq7xyu38hVjimNafZINRMsd6oIqFEclKMM5N58JgKRMQ2mldOQzlhLjA&amp;s\"/>,\n",
       " <img alt=\"\" class=\"DS1iW\" src=\"https://encrypted-tbn0.gstatic.com/images?q=tbn:ANd9GcTjRYXqKpwxHkFa9Vz7wH-dkSRYDx0WPwGY5PpsmMSy5DETP_ts5F9K5Hf9qw&amp;s\"/>,\n",
       " <img alt=\"\" class=\"DS1iW\" src=\"https://encrypted-tbn0.gstatic.com/images?q=tbn:ANd9GcTusUoIZefOmtZxzCuValw8DpVPzi_dNn0kkVyGOlgFkyaTmnT1yOS5VWEF9w&amp;s\"/>,\n",
       " <img alt=\"\" class=\"DS1iW\" src=\"https://encrypted-tbn0.gstatic.com/images?q=tbn:ANd9GcSfJCgKATw23OgNQ8LdpiHjSnP3yxiXy6QNW-9TWcAjXjO-6SAk-o4p8is4ZfU&amp;s\"/>,\n",
       " <img alt=\"\" class=\"DS1iW\" src=\"https://encrypted-tbn0.gstatic.com/images?q=tbn:ANd9GcR4H1tODU7ci3j_sZPAsa3IwCtShkuOoQJwuatTyxpI9ELu0MkurKMtiH2q2p0&amp;s\"/>,\n",
       " <img alt=\"\" class=\"DS1iW\" src=\"https://encrypted-tbn0.gstatic.com/images?q=tbn:ANd9GcTWjH0Af_GHhTas7AFLqYbdxSi0MLkkXJcosITpIigPKmhTWVGSBU7oUHIychE&amp;s\"/>,\n",
       " <img alt=\"\" class=\"DS1iW\" src=\"https://encrypted-tbn0.gstatic.com/images?q=tbn:ANd9GcTtbMsLczJQk_a9lgPzbOS5Ts1fSkq84jNYEwOiTQmiMnagwdn-Ak5WTDYlpg&amp;s\"/>]"
      ]
     },
     "execution_count": 57,
     "metadata": {},
     "output_type": "execute_result"
    }
   ],
   "source": [
    "image_tags"
   ]
  },
  {
   "cell_type": "markdown",
   "metadata": {},
   "source": [
    "#### 1st item is not link"
   ]
  },
  {
   "cell_type": "code",
   "execution_count": 59,
   "metadata": {},
   "outputs": [],
   "source": [
    "del image_tags[0]"
   ]
  },
  {
   "cell_type": "code",
   "execution_count": 60,
   "metadata": {},
   "outputs": [
    {
     "data": {
      "text/plain": [
       "20"
      ]
     },
     "execution_count": 60,
     "metadata": {},
     "output_type": "execute_result"
    }
   ],
   "source": [
    "len(image_tags)"
   ]
  },
  {
   "cell_type": "markdown",
   "metadata": {},
   "source": [
    "### Creating folder to keep images"
   ]
  },
  {
   "cell_type": "code",
   "execution_count": 61,
   "metadata": {},
   "outputs": [],
   "source": [
    "# create forlder to keep images\n",
    "save_dir = \"image/\"\n",
    "\n",
    "if not os.path.exists(save_dir): # if directory does not exist\n",
    "    os.mkdir(save_dir)           #    create directory"
   ]
  },
  {
   "cell_type": "markdown",
   "metadata": {},
   "source": [
    "### Requesting image "
   ]
  },
  {
   "cell_type": "code",
   "execution_count": 62,
   "metadata": {},
   "outputs": [
    {
     "data": {
      "text/plain": [
       "'https://encrypted-tbn0.gstatic.com/images?q=tbn:ANd9GcSApOD8cC7Jh33c0VqbcFkcmx0og9wr1DYsD50a8Tp3p-0I33M_SuuLXA0Kizk&s'"
      ]
     },
     "execution_count": 62,
     "metadata": {},
     "output_type": "execute_result"
    }
   ],
   "source": [
    "image_tags[0][\"src\"]"
   ]
  },
  {
   "cell_type": "code",
   "execution_count": 64,
   "metadata": {},
   "outputs": [
    {
     "data": {
      "text/plain": [
       "b'\\xff\\xd8\\xff\\xe0\\x00\\x10JFIF\\x00\\x01\\x01\\x00\\x00\\x01\\x00\\x01\\x00\\x00\\xff\\xdb\\x00\\x84\\x00\\t\\x06\\x07\\x08\\x07\\x06\\t\\x08\\x07\\x08\\n\\n\\t\\x0b\\r\\x16\\x0f\\r\\x0c\\x0c\\r\\x1b\\x14\\x15\\x10\\x16 \\x1d\"\" \\x1d\\x1f\\x1f$(4,$&1\\'\\x1f\\x1f-=-157:::#+?D?8C49:7\\x01\\n\\n\\n\\r\\x0c\\r\\x1a\\x0f\\x0f\\x1a7%\\x1f%77777777777777777777777777777777777777777777777777\\xff\\xc0\\x00\\x11\\x08\\x00\\x8c\\x00p\\x03\\x01\"\\x00\\x02\\x11\\x01\\x03\\x11\\x01\\xff\\xc4\\x00\\x1b\\x00\\x00\\x02\\x03\\x01\\x01\\x01\\x00\\x00\\x00\\x00\\x00\\x00\\x00\\x00\\x00\\x00\\x05\\x06\\x03\\x04\\x07\\x02\\x01\\x00\\xff\\xc4\\x00<\\x10\\x00\\x02\\x01\\x03\\x03\\x01\\x06\\x03\\x06\\x03\\x07\\x05\\x01\\x00\\x00\\x00\\x01\\x02\\x03\\x00\\x04\\x11\\x05\\x12!1\\x06\\x13AQaq\\x14\"\\x81#2B\\x91\\xa1\\xb1Rb\\xf0\\x07$3\\x82\\x92\\xc1\\xe1\\x15\\x16r\\xd1\\xf1\\x17\\xff\\xc4\\x00\\x19\\x01\\x00\\x03\\x01\\x01\\x01\\x00\\x00\\x00\\x00\\x00\\x00\\x00\\x00\\x00\\x00\\x00\\x02\\x03\\x04\\x01\\x00\\x05\\xff\\xc4\\x00\"\\x11\\x00\\x02\\x02\\x02\\x02\\x02\\x03\\x01\\x01\\x00\\x00\\x00\\x00\\x00\\x00\\x00\\x01\\x02\\x00\\x03\\x11\\x12!1\\x04\\x13AQa2\"\\xff\\xda\\x00\\x0c\\x03\\x01\\x00\\x02\\x11\\x03\\x11\\x00?\\x00o\\x83E\\x8e\\xd6\\x1d\\xb0\\xa8\\x03\\x1dq\\xd4\\xd4:}\\xd4\\x96\\x17\\x869p#\\x1d\\r\\x12\\x86\\xfd&\\x80\\xb6p\\x08\\xa0\\xb3E%\\xe5\\xd9U\\xe1|\\xfc\\xeb\\xceJ\\xacB\\n\\x88\\xeaX\\x12CB:\\x8fmll\\xd7\\xba\\x12\\x07\\x9b\\xc1\\x13\\x92ih\\xeaR\\xdd_\\x8b\\xfb\\x91\\xb4\\x00B\\x8c\\xf0\\xa0\\xd0\\x9dwKM:\\xe4M\\xb1\\x81-\\xc9>4yc\\xb7:IW\\x18;s\\x9a\\xa2\\xd4\\xb0\\xb0X\\xfa^\\xa06\\x84t\\xde\\xd2YO\\'\\xc3\\x89Ap:U]v\\xee\\x0b{\\x88\\xaf.\\xa6\\x8e\\xda4o\\xf1%`\\xbfJM\\xec\\xe0\\xb5\\xb3\\xd4\\xae\\xb5\\x1b\\xa0\\xdd\\xd4\\x08\\xcf\\x85\\xe4\\x9cx\\x01\\xe6i/\\xb5\\x1d\\xa9\\xbe\\xd7\\xaf\\xda[\\x97+\\x0e~\\xce\\x05c\\xb21\\xe1\\x81\\xe7\\x8e\\xa7\\xc6\\x8b\\x97\\x1a\\xfdE\\xb1\\n\\xdb}\\xcdG\\xff\\x00\\xd0t\\xf6\\x9cC\\x1d\\xee\\x10\\x9c\\x161\\xb6?<t\\xa1:\\xce\\xa2\\x97\\x13f\\xde\\xe29\\x10\\x9c\\xfc\\xae\\x0eO\\xb5f\\xd6V\\xd77r\\xa0\\x8br\\x83\\xc6\\xfe\\x80}h\\xf9\\xb7\\xd3\\xad\\xad\\xcb=\\xd4\\x97\\x17i\\x82#N7\\x1f.\\x9dr}+0\\x14\\xe6hrW\\x18\\x9aF\\x85p!\\xb7R\\xe0\\x82W\\xa1\\xabKx\\xd2\\\\g\\xa0\\xf0\\x14\\x99\\xa3\\xeaBd <\\xe9\\xc8\\x1d\\xdc\\xe3\\x0c\\xa3\\x9f\\xcc\\x1f?Jc\\xb7x\\xe3\\x89Y\\x8eX\\xf8\\xd1x\\xed\\xa5\\xb8=@\\xf2\\xc1\\xb2\\x82GbZ\\xd5\\x18\\xcb\\x1a\\x8c\\xf0MK\\xd9\\x98E\\xb8e\\xe3\\x1b\\xb3U/\\x1aC\\x16\"BH\\xe4{\\xd5\\x9d\\x14L\\xb0\\xef|\\xe4\\xf9\\x8e\\x94^z\\xb5\\x84*\\xc9|\\x04\\x0bI/\\xdc#\\xda\\rW\\xe1\\xad\\x0e\\xd3\\xf37\\xca(?e.\\x1d%\\x9c\\xca\\xdc\\xb3df\\xa8j\\xb72\\xdc\\xdd|.3\\xb5\\xb3Wb\\x8b\\xb9\\x80\\x15\\xe0\\xe3\\xa8\\xf1\\xaf>\\xa4j\\xf82\\xe1\\xae\\xb2\\x0b\\x9b\\xe9\\xedu\\xf6\\xb1\\x97\\x88\\xf7n\\x1e\\xc6\\x9c4\\x91\\xb9\\x01\\xc0\\'\\xadC\\xa9vUu\\x1d`\\xdew\\xc46\\x02\\xe0\\x0e\\x08\\x14~\\xcfKKD\\x01|+\\xd2F~\\x8c\\x9d\\x911\\x91\\xdcG\\xed\\xf4m$0\\xf0IV\\xc9\\xc7\\x95.\\x19o\\xe5\\xb4\\n\\xb8\\xdb\\x8c\\x1cu\\xc5j\\xfa\\xc5\\x9c3Z\\xb6\\xf4\\r\\xc7\\x88\\xa4X-\\x92\\x1e\\xff\\x00\\xbbS\\xc1\\xc0\\xf4\\x14\\x8bI\\x0e\\x0cuX5\\x913\\xfe\\xd3\\xad\\xcd\\xae\\x88\\xc1U\\x93\\xbe\\x99S\\x1f\\xc5\\xd7\\x8f\\xd0P{N\\xca\\xcfy\"\\xc6\\x92\\xa8|\\x0c\\x968QZwi,b\\xbf\\xec\\xe0b@\\x11\\xdcF\\xe4\\xe3\\xa63I\\x96\\x1a\\xc5\\xa4:\\x87\\xda8\\x8c\\x11\\xb7\\xedT\\x80\\xc0\\xfd(l,\\xbf\\xc4\\xea\\xb5~^\\x1c\\xd0\\xff\\x00\\xb3\\x94]\\xab\\xaa_3G\\xb4\\x1e\\xe6\\xdb\\xe5\\x07\\xdc\\xd6\\x8f\\xa6vOI\\xd3\\xacDv\\x96\\xe13\\xd6L\\xe5\\xff\\x00\\xd5Bt\\xedoGx\\xad\\xe6\\x92\\xf6\\x15,\\x87\\x86~28l\\x1fB?Z/e\\xda]\\x1ap\\xe9mz\\x8d\\x83\\xc9\\x00\\x95\\xcf\\x96zf\\x90\\xac\\xc7;\\xcaX\\x05\\xe1fS\\xae\\xe9\\x92\\xe9]\\xa4\\xbf,\\xf2H\\x8a\\xc0\\xc3#\\xb1c\\xb5\\x87C\\x9f#\\xfbU\\x885\\x19%xcw\\xe5\\x82\\xf1\\xe3\\xd3\\x9aq\\xed\\xbd\\xa7\\xf7&\\xb8\\x8fi-\\xd1\\xba\\xe4c5\\xcfe\\xb4[6\\x86\\xd2g\\x89\\x0c\\xc2\\x14\\xdc\\xc4rN)\\xf56\\xeb\\xfa$\\xf6\\rN~\\x0c\\xbb\\xa4\\xda\\xa3Y\\xeel\\x93\\xe3\\x9a\\xbf\\nB\\x14\\x8e\\x9eu~{dH\\xf3\\n\\x85\\xf4\\x14\\x05\\xed\\xae\\xd3PB\\x870\\xc8p\\xd9\\xea\\xb5J^+]ZOe~\\xc6\\xca\\xc1\\xf7V\\x0c5\\x07\\x92$;\\x19z\\xfa\\xd4\\x13\\xdbO\\x1a\\x8e\\xf1Yc\\'\\xefS\\xd5\\xbd\\xb4b<\\xb0\\x06\\xa3\\xbeH\\x1a3\\x1b\\xa8*\\xc3\\x91K\\xa7_n\\xcf\\xd1\\x87~\\xc6\\xadS\\xb9\\xee\\x85\\xaa\\xa5\\xfb\\xbe\\xd5e\\xd8q\\xf3\\n-u:\\x85\\x18<\\xd2\\xdfg\\xa3h{\\xe68\\xe4\\x8e<\\xaa\\xbe\\xa1\\xaa\\xcf\\xff\\x00ZK@\\x00\\x8b\\x00\\x96\\xf3\\xa2\\x0f\\x81\\x96\\x84j$\\xe0FYb\\xef\\xad\\xd818#\\xc2\\x92uu[I\\xcc[\\x80\\xc8\\xcf\\xb8\\xcd9\\xc9p\\xb1\\xd9\\xb1\\xcfE\\xcdgmzo\\xef\\x9eyW\\x01N\\x14\\x9aO\\x93j\\xa0\\xe6;\\xc5\\xa1\\xdf8\\x10^\\xadss\\x08\\xb7\\xb3\\x8c\\xb4pM\\x1c\\x8c\\xe8@\\xc3\\x91\\x8c\\x03\\x9f.\\xb4\\x95\\xaa\\xe9-p\\xe9#n\\x0c\\xe0\\xfc\\xcc\\xf9\\xcf\\xb0\\xa7\\x1e\\xd5\\xdc/\\xd9\\\\Dw=\\xb3\\x16#\\xf9N\\x01\\xa4\\x8dWV\"\\\\Y\\x87,W+\\xc7OZMe\\x8f\"2\\xd0\\xab\\xc1\\x9a^\\x93\\xd8-3W\\xecL0J\\xc2;\\xc5\\xcb%\\xd09*s\\xd1\\x87\\x88\\xf4\\xf0\\xa2\\x9d\\x8f\\xecS\\xe8\\xd0\\xb2Kv\\xe3\\x9eD2\\xb1G\\x1e\\xa1\\xb8\\xfc\\x80>\\xb5\\x9f\\xf6/\\xb4\\xf1\\xe9\\xd2\\xc5\\x15\\xe0\\xbbe\\x8d\\xf2\\x08\\x99\\x81 \\x8c\\x10Fp\\xc3\\xdc\\x13\\xe5Z\\xb6\\x99\\xab\\xda\\xdcZ4\\xf6\\xb7\\x01\\xed\\x8b\\xf0\\xc7\\xa8\\xcf\\x81\\xf5\\xe6\\xb1\\xf2\\xa7\\x06hl\\x8e\\'z\\xed\\xad\\xa4\\xd0\\xc7iv\\xe5m\\xb9\\xdeA\\xe4\\x0e\\x9d}\\xc8\\xa1h\\x8fc\\xab\\xb4q\\x00\\xa8\\xaf\\xb1\\x02g\\x0c\\xb8R\\x0f$\\xff\\x00\\x163\\xe9D\\x12\\xf2\\xde\\xe7Q\"V\\xc4f\\xdd\\x87\\xcd\\xc0<\\xaeiv\\xea\\xea\\xf55\\x89o\\xa4\\x8b\\xfb\\xa9;c\\x00\\xfd\\xd5\\x1d?>\\xbfZ\\x14V\\'\"n\\xca\\xa3\\x069\\x07,0\\xc7\\x8a\\x8aD1\\xfc\\xea23J\\xbf\\xf7)\\xf8\\xa8\\xe1\\x8dK\\x82\\xc3q\\xa7h\\x94Mk\\xb8\\x8f\\n\\xaf\\x87\\x12\\x17\\xd9NeQt$\\x89\\xb0\\xd4\\x1ei\\xd9\\xefD{\\xc9\\xc0\\xe6\\xaeE\\x16.\\xe4\\x8f<u\\xab6\\xba\\x1cmpg|\\xb3z\\xd4\\xf6\\xdc\\xaa@\\x1d\\xc7U\\xf6`\\xeb}V8#\\x90\\xe1\\xb2\\xc7\\xca\\x86\\x89\\xda\\xee\\xf4\\xdc\\x11\\x8cR\\xf3\\xdf\\x918\\x8d\\x89\\x18\\xa2\\x8dv\\xb1[!\\\\s\\xd7\\x1e4\\x84\\xd9\\x97\\x93=K\\xb4W:\\x88V\\xff\\x00S\\x95\\xad\\xfb\\xb0x\\xe9\\xc9\\xa0\\x0f,h\\x84d\\n\\xb1\\x11{\\xb8\\xb8\\xc0\"\\x86M\\x03-\\xc8\\x81\\xfeb\\xdd*\\x1b\\xe8\\xb2\\xdb;\\x97Qu5\\xd4I\\xe2D\\x91E\\xa8%\\xc4\\x0cF%B\\x8c}\\x08\\xc5fP\\x99`\\xd4e\\x8aEFt\\xccd8\\xf25\\xad\\xe9\\xdah\\x82\\xe4\\xb99U\\x05\\xdb\\xd8sYF\\xae\\xadq}up\\xbb\\xbb\\xc3;\\xef\\xc7\\xbfZ\\xf5\\xfcT(\\xb8i\\xe1\\xf9\\xb6\\xad\\x8d\\x94\\x8e\\xdd\\x99\\xd7`\\xd3\\xa0\\xdbuog22\\x90\\xd1-\\xaad\\xfe\\x95\\xeb\\xeb\\xca\\xd7R\\xae\\x9bn\\x96\\xd6\\x8d7z\"\\x8dB\\x8c\\xe1z\\x8e\\x83\\xa1\\xa4\\xeb.\\xfd\\xcca\\x10\\x9c\\x8d\\xbd9\\xad#\\xb2}\\x8d\\x13\\xdcC{\\xa9\\x84*\\xb8e\\x80\\x0e\\x0f\\xfe^~\\xd4N+^LJ\\xb5\\x8f\\xd4\\'n\\x97\\x11vj\\x1dR\\xe27\\xdf&do\\x94\\x9d\\xb1\\xf1\\xb7#\\xae1\\x93\\xf5\\xaa\\xd2\\xeb\\xf6W\\x10\\xa0G\\x07#\\xc2\\x9e\\x1dX\\xeb\\xfaD\\x08\\x8a\\xc8\\xfd\\xe0\\x91\\x0f\\x82\\x05\\xfd\\xba\\x0f\\xad\\x00\\xbd\\xec\\x8d\\x8d\\x84\\x92\\xc5\\xdcg\\x0cB/\\xf2\\xf8c\\xe9J\\xf7\\xfa\\xea\\'\\x10\\x993`\\xc9\\x81\\xf4\\xc8\\xe1\\x92\\xe5\\x19W\\xf1V\\x93k\\x85\\xb6\\x03\\xd2\\x90\\xf4\\x9b%\\xb4\\xbc\\x00\\xe7`\\xe9\\x9f\\nn7j\\x96\\xc4\\xe7\\xa0\\xa6x\\xbf\\xeb&w\\x95\\xf1\\x05]_\\xad\\xae\\xa4\\xecs\\x80B\\x9ae\\xb3\\xbfG\\x846@\\xe2\\xb3\\xdb\\xb9\\xd6\\xf2\\xf7\\x96\\xf9s\\x9e<M\\x107\\xa6\\x12U\\t#\\xca\\xa2\\xf5\\x94\\xb4\\xe4\\xc3\\xd0\\x14\\x06-k6\\x8a%\\x8eX\\xc1\\xc1\\x18\\x06\\xab\\xf7\\xd2\\x12\\xa8\\x01c\\x8f\\x95Eiv\\x1a$3ib\\x1b\\x84\\x0e0\\x0f#\\xa1\\xf4\\xa0\\xb6\\xdd\\x97\\x8e\\xcfT\\x99\\xc1iT\\x7f\\x87\\x19\\xea<\\xf9\\xab\\x05N0\\x04o\\xbe\\xa2\\xac[\\xbf\\x89CEW\\x0c\\xc1\\xa3a\\x91\\xf4\\x15<\\xd6\\n\\xd7\\x7f\\x10\\xc4nQ\\x80\\x00\\xa3r\\xc0\\xf0\\xc6\\xa6H\\xca)\\xfb\\xa3\\x18\\xaa2\\xa8c\\x9c\\xd5UR\\xa89\\xe6C\\x7f\\x94l\\xe8bG\\x0c\\x03\\xb8\\x90\\x9c\\x0e\\xf0l\\x1e\\xb9\\xac\\xa6\\xf7J\\xb8\\xb6\\xed\\x15\\xfa\\x9by\\x84\"\\xe5\\x941C\\xb4\\x9e3\\x83\\xd3\\xc7\\xf5\\xad.\\xe6\\xceI\\x9d\\x18\\xc9#l9L66\\x9fAL\\x9a\\r\\xdc&K\\xc1\\xa9\\xaeE\\xd1V|\\xa0\\xda\\\\.\\xdd\\xdcx\\x90\\x17\\xf2\\xa1\\xb0\\xe7\\x8e\\xa0Tprb\\x17g\\xfb?\\x0b[\\x19f\\x8f\\x8ceI\\xea\\x84xS~\\x87\\x83\\x0e\\xe4\\xfb\\x83\\x8c\\xf9S\\x14\\xbau\\xbd\\xb4/$\\x1b\\x1a\\x06\\x1f{\\xc0{\\xd5^\\xcdi\\xfb\\xa3\\xef\\x95H\\xb7\\xceb\\x1d7\\xff\\x007\\xb7\\x97\\xe7\\xe5^p\\xa1\\xcb\\x80e\\xe6\\xf5\\xd3\"\\x0c\\xec\\xbe\\xa6o\\xbby\\xa8[\\\\\\xc2\\xf0\\xb5\\xad\\x92|*\\xc8\\xbbY\\x95\\x9b\\xed\\x1f\\x9epH\\x8f\\xf2\\xa7y\\xa1\\x82\\xe62\\xb2\"H\\xbe \\x8c\\xd5\\x15\\xd1\\xad\\x1bX\\x1a\\xc4\\xb0\\x81|\\xb0w\\x0b(s\\xfe\\x1es\\x82:\\x1a\\xbe\\xb1\\xc4\\x87*\\xaa\\x0f\\x9e9\\xafM\\x14*\\xeb w\\xd8\\xe6,\\xea]\\x94\\\\\\x99t\\xc9\\n\\xb19\\xee\\xa49\\x07\\xd8\\xf8~\\xb4\\x95\\xda\\x0b\\xbb\\xbd6O\\x86\\xba\\x86X\\xa4q\\x85\\x0c1\\xbb\\xd8\\xf8\\xfd+^\\x075\\x15\\xc5\\xbcW1\\x98\\xae\"Ic?\\x86E\\x0c?#\\\\\\x10/\"qr\\xdc\\x19\\x90X\\xe9r|7z\\xdc1\\x19\\xc85\\xe6\\x9f{\\x11\\xbb\\x02b88>\\xf5\\xa0k\\xda<v\\xb6O-\\x9am\\x8dG(?\\x0f\\xa8\\xf4\\xacc\\xe1e\\xbe\\xd5\\x98w\\x8c\\x8a\\xcf\\xe1R=x\\xce\\xd2\\xb0\\xe1\\xc0\\x0b6\\xfbK\\x94X:\\xf2\\x178\\xa1\\x17\\x13\\xb2K\\xde\\xf9\\x9e\\xb5\\x1d\\x8c\\x92\\t&\\x89\\xff\\x00\\x02\\x8a\\xf9\\xd8I\\x05\\xdc]Y6\\xca\\xa3\\xcct?\\xbdTN8\\x91\\xc6\\x0b\\x06K\\xab8\\xc3\\x85\\x7f\\x97%Xg\\x93\\xcdN-\\xa0\\x8dOuk\\x08s\\xe6\\x9c\\x1a[\\xb0\\x9eKha\\xbb\\x8c\\xee\\x8c\\x9e\\xed\\xc7\\x97\\x97\\xf5\\xe9LI:\\\\[\\x92\\xa0\\xb0a\\xd0\\x1c\\x1a\\xe3\\xd4\\xe1\\xdc\\x89\\x16\\xd1\\x8a\\x94\\xb4A\\x9d\\xc1\\xb6.\\t#\\xc8\\x8a\\xee\\xd6\\xca9\\x10\\xbe\\xe1\\x86\\xe4&\\x03\\x05\\xf4\\xe4T\\xd1\\x8f\\xbb\\xb2\\x0c\\x04\\x1f.ON*hF\\xd6vdE-\\x8eW\\xc6\\x96\\x8a\\xd9\\x04\\xc66\\x00\\xe2V\\x85!k\\xa9,{\\xa5\\xc7w\\x9900\\x08>\\x18\\xe9\\xe3D\\x82\\x05\\xc0Q\\x80\\x0608\\xaa\\x90C\\xb3Q\\x92pxx\\x80\\xfa\\x83V\\xd9\\xa9\\xf8\\x892\\x9e\\xa5w\\xf0\\x91\\x02\\xa9\\xbd\\xd8\\x85P|\\xea\\x18\\xef.\\xa2\\x91E\\xdaE\\xb1\\xdbnc\\xf0>\\x15b\\xf6\\xd5n\\xe2\\xd8\\xe4\\x82\\x0eA\\x1e\\x06\\xa1\\x86\\xc6Vd\\xf8\\x9b\\x9e\\xf5P\\xe4(P3\\xeak\\xb36\\x10\\xf0\\xaf\\xbc+\\xda\\xf1\\x8e\\x14\\xd6\\xcc\\x9f:,\\x91\\xb2:\\x86V\\x04\\x10|Ee]\\xa4\\xd1\\x93B\\xd5\\x12h\\xd7\\xec\\x9d\\xb0\\x19\\xbc<\\xabSV\\xe4\\n@\\xfe\\xd6Vi#\\xb5\\xb7\\x858\\x94n-\\xe5\\x83\\xff\\x004\\xbbFP\\x88\\xdaI\\x16\\x0cC\\x17\\xe25\\x99\\xfb\\xbce\\x87$z\\x03@\\xe7\\x90\\xac\\x90\\xcc\\x0e\\x03\\xa9F\\xfe\\xbf*\\xbf\\x1b6\\xcbn\\xf0\\xe4\\x91\\x92M\\x0f\\x957\\xdbM\\x11\\xfb\\xc8\\xc4\\x8fJ\\xc6\\xee\\x04\\xb9\\xa2\\xc8\\x8dm5\\xb4\\x83\\xe5f#\\x1eG\\xaf\\xfb\\xd4\\xd6wMa8Id\\x1d\\xcfL\\x93\\x80(n\\x99)hY\\xd7\\x87V\\xcbz\\x1c\\x7f\\xc5\\x0e\\xed\\xfd\\xbb\\xdevV\\xfc\\x85\\x19\\x8c,\\xbd?\\x85\\x81?\\xa5j\\x1c\\xce\\xc6N#\\xbc}\\xa2\\xd2\\x15r\\xfa\\x9d\\xa7\\xd2P\\xdf\\xb5\\x12\\x86\\xe6\\x1b\\x8bt\\xb8\\x82Ex\\\\e\\\\t\"\\xb0]&\\xea&\\xbfM7\\xbb\\x85-/-D\\xb6\\xae\\x91\\xaeau\\xe5\\x8b7\\xde<\\xa3\\x83\\x92F0@\\xe9Z]\\xab\\xac\\xdf\\xd9\\xe4e\\xc0dR7\\x03\\xe2\\x04\\x839\\xfaS\\x8a\\x8cJ\\r+\\xa8 \\xf3\\x98\\xe1\\x15\\xdc*\\xc9\\xf6\\xb1\\x91#lS\\xb8r\\xddq\\xefS\\xbc\\xc8\\x0b\\x02\\xca6\\x8c\\x9ez{\\xd2U\\xcd\\x85\\xb4\\xd3\\xeaV\\x96\\xe6\\xdd2\\x91\\xcfn\\xf6X\\xdb\\tF\\xf9I\\x03\\xa3\\xe4\\x8fp*\\xdaj\\x107c\\xa4\\xd4.\\xe4\\x02{\\xdbY\\x1d\\xe4\\xc6\\x036\\xd2\\xa1G\\xaf\\x90\\xa1\",\\xd7\\x8e\\xa3RJ\\x8cp\\xae\\xa4\\xe07\\x07\\xc0\\xf45\\xd4B5\\x19\\x8f\\x18#<\\x1c\\xe6\\x91\\x7f\\xea\\x91h\\x93<\\xda\\x9c\\x9f\\x0c\\xb2\\xe90\\x88\\xcc\\x9cnt\\xdf\\x95\\x1e\\xbc\\x8e=h\\x87\\xc2Ft\\x8d3$-\\xcc\\xd0D\\xefo$\\xa5;\\xe0\\x89\\x82\\x99\\x1d\\x08\\xdd\\x9fq]\\x89\\xc6\\xac\\x1e\\xe3q5\\x04\\xce\\x06\\x14\\xfe#\\x8a\\x8fN\\xdal`\\xd8\\xf22\\x14\\x05{\\xc3\\x96\\xc1\\xf3?\\xa5s9\\x0f>\\xcc\\xfd\\xde\\t\\xf7\\xa1&+\\x1c\\xc9\\xa19%\\xfc\\xf8\\x1e\\xd4\\x0b\\xb7\\x16\\xdf\\x11en\\xe0\\x02U\\x99y\\xf5\\x1f\\xf1G\\xa3\\xfb\\xf8\\x1d\\x00\\xe9Bo\\xad\\xa7\\x91/\\x04\\xdb\\x8cA\\xc3!f\\xc8#\\x1e\\x1e]q\\xf4\\xa2\\\\|\\xcd\\xeb\\x91\\x01O\\xf2<\\x1e[qT\\xee\\x0e\\xdb\\x991\\xc0~G\\xf5\\xefW5!\\xb28\\x9f\\xf8@\\xa1\\x97Rn\\xd8\\xc0\\xf28\\xa4\\xb4\\xc9\\xe6\\x91 \\xf8\\xf9a\\xe8\\xb2&\\xe0=A\\xe6\\x8b\\xb5\\x98\\xd44\\xab\\xcbV w\\xb1\\xbcy#8\\xc8#\\xfd\\xe9]/\\x12\\xd7Y\\xb4v8\\x0f(_\\xf5q\\xfd{S\\xae\\x99\\xf7nS\\x1d9\\xfaP\\xd4f\\xcc\\xc2\\xcb\\xb1rF\\xcd\\x0c\\xda\\xcc\\xe6\\x02wwp\\xc4\\x10\\x1f\\xa9\\'=\\x05j\\xfa\\x06\\x9fki\\xa1\\xc3g\\x11i\\xa0\\xe4\\x9e\\xfb\\r\\xbb=s\\xc6)N>\\x19O\\xad4\\xe8S}\\x91\\x8c\\x9e\\x8d\\xc7\\xd6\\x9d\\xb1\\'\\x99\\xbb\\xb1\\x18&\\x17{Xc\\xb5x\\xe0\\x8a8\\xc1\\x1d\\x11@\\xfd\\xaa-\\r\\x84\\x96B7\\xc6P\\x91\\x83W\\xb1\\x94\\xfaP\\x9d5\\xbe\\x1fS\\x9a\\x03\\xc2\\xbbn\\x1f^k\\x89\\xe6\\x0c\\xb5sn\\x1e\\'VP|Fj\\xbcV\\xb6\\xda\\x9e\\x94 \\xbe\\x829\\xc4G\\xee\\xc8\\xb9\\xe9\\xe3Ee\\\\\\x9fz\\x1di\\xfd\\xde\\xfd\\xa3\\xfc\\x12t\\xae\\xe8\\xce\\x04\\x89~\\x05T\\x8a5E\\n\\xa1@\\n8\\x00\\n\\xab+\\'\\xc4\\xbb\\xf5\\x08y\\xf7\\xabj\\x08B\\x07U4(\\xe7\\xe3n\\x979\\x1d\\xf6@\\xff\\x00*\\xff\\x00\\xee\\xb9\\xa7\\x08J\\xdb&=\\xcd\\xd5\\x8ek\\x8dD\\xe3O\\x9c\\xfa\\x7f\\xbdv\\x8f\\xf3\\x15\\xe9\\x8a\\xf2\\xed;\\xdb\\x1b\\x84\\xf3C\\xf9\\xe2\\xb4w0\\xf5\\x13\\xb59\\x13\\xbb\\xd8Ic\\x9ex\\xf0\\xa5\\xe9\\x99\\x978`\\xca<z\\x1aa\\xd4\\x17\\x08\\xcf\\x93\\x91\\xcd*\\xea\\x17\\x8f\\xb9\\xbeH\\xfa\\x1ev\\xe6\\x94\\xfdM\\x83.\\xc3\\xdck\\x1ax\\x1fqe\\xc9>\\xb8\\xc5i\\xdaA\\xdd3\\x0c\\x8c\\xbc|\\x8f:\\xcd,\\x9d\\xa5\\xd4\\xd0\\xbe>U\\xc8\\x00`\\x0ekG\\xd3\\x0e\\xdb\\xb8q\\xe6G\\xe9A_\\x13L\\x03\\x8d\\xae\\xc3\\xca\\x8ciRm\\x91\\x0f\\x98\\xa1wc\\x17\\xb3\\x81\\xd3s~\\xf5sO$\\x14?\\xce)\\x86`\\x8e\\xe9\\xf3D\\r\\t\\xd4\\xd7\\xba\\xb8\\x82\\xe5z\\x86\\xda\\x7fqD\\xec\\xcea\\x19\\xf2\\xaaz\\xb2\\x83g.\\x7f\\x0e\\x08\\xf7\\x06\\x88\\xf54B9\\x0f\\x1a\\xb8\\xf1\\x15R\\xf20v\\xb0\\xfb\\xcaA\\x06\\xbb\\xd3X\\xb5\\x92\\xe7\\xc2\\xa4\\x94ek{\\x13\\'p\\x9d\\xc3w\\x98\\xe6\\x84\\xcc\\xeb\\xf1\\xd7\\x013\\xbc0\\xdd\\x8faE-\\xfcG\\x85+oo\\xfb\\xa2a\\xb8\\xe1\\x9d\\xc1\\x1e`\\x7f\\xf2\\x82\\xc6\\xd7\\x10\\xebM\\xb3\\xf8!\\xc4\\x91\\xb3\\xc9|\\xff\\x00\\x94U\\xc4\\'i\\xc8nG\\x89\\x1c\\xfeT<\\xc8\\xe0\\x80\\x18\\xd1(:\\n!\\x00\\xcf\\xff\\xd9'"
      ]
     },
     "execution_count": 64,
     "metadata": {},
     "output_type": "execute_result"
    }
   ],
   "source": [
    "# image in byte form\n",
    "requests.get(image_tags[0][\"src\"]).content"
   ]
  },
  {
   "cell_type": "markdown",
   "metadata": {},
   "source": [
    "### Saving Images"
   ]
  },
  {
   "cell_type": "code",
   "execution_count": 68,
   "metadata": {},
   "outputs": [
    {
     "name": "stdout",
     "output_type": "stream",
     "text": [
      "https://encrypted-tbn0.gstatic.com/images?q=tbn:ANd9GcSApOD8cC7Jh33c0VqbcFkcmx0og9wr1DYsD50a8Tp3p-0I33M_SuuLXA0Kizk&s\n",
      "https://encrypted-tbn0.gstatic.com/images?q=tbn:ANd9GcTg-8yqYAlz5YOVL6N0VIX5YsJW3Rr5-gehZOFAiaZXjYyIWWScrOS5YCeNnQ&s\n",
      "https://encrypted-tbn0.gstatic.com/images?q=tbn:ANd9GcQbYmc6mwMqUdtsy1atMs5DqIE01PDNI44oe4GsTsAegCeDhONVUgfGFVYsOHU&s\n",
      "https://encrypted-tbn0.gstatic.com/images?q=tbn:ANd9GcQVXxOgOiQqTulmHn1GvJWquRbsttvStpZWU9LjlBdGfXJ_As1-_Fe688h7QQ&s\n",
      "https://encrypted-tbn0.gstatic.com/images?q=tbn:ANd9GcTSXAAowoe0NgqE0pqClijI-yiRHh6rTGtVdCFlASGdLbACDc387hCvU2vNDg&s\n",
      "https://encrypted-tbn0.gstatic.com/images?q=tbn:ANd9GcQZHFXnxqfUzhsxgkbAOa5GKnokACUF1sdIMXmDVmJk15snU-wnhanIH_amsQ&s\n",
      "https://encrypted-tbn0.gstatic.com/images?q=tbn:ANd9GcQFGtFjZTj4_a9Idi_Nwj4s26E_AYky39Bwgqw2dTOJ2ktzXhUZkEJBul6Zww&s\n",
      "https://encrypted-tbn0.gstatic.com/images?q=tbn:ANd9GcQq8X0nLNaCzy7-IB3JuFXdBf8TU8Osb9_3kM_zz_nV_7K3F5pk8RPNXJHQB-M&s\n",
      "https://encrypted-tbn0.gstatic.com/images?q=tbn:ANd9GcTQ0h9qMM17idjQuauwiQPwCsUiPqf4uyNrji1FdBzlUb7LVw39aLo5CCzCLFE&s\n",
      "https://encrypted-tbn0.gstatic.com/images?q=tbn:ANd9GcQT5IoMXUQCHhtZPp9KfonIJmsBc_tLgREuWeTZfe8lwhGmMSsMPb3m9lHLbME&s\n",
      "https://encrypted-tbn0.gstatic.com/images?q=tbn:ANd9GcRKWjUxa6DluLFfg6zxWvT2ZaWgqo0LHNi8XbEandkdODvwhmlXenutLDoRBsE&s\n",
      "https://encrypted-tbn0.gstatic.com/images?q=tbn:ANd9GcQG-IeJNQo4JHikQM-jWroiX2HPL_XGGMVS7LSd2KUUcVvc0IFpvWkMOhnX2w&s\n",
      "https://encrypted-tbn0.gstatic.com/images?q=tbn:ANd9GcRYyxfP5wTKQz_X-F4iucmm1AdJvavMlh-7eInH0wUmFSV2CQQpvV3QZ6hScb0&s\n",
      "https://encrypted-tbn0.gstatic.com/images?q=tbn:ANd9GcTvpKBq7xyu38hVjimNafZINRMsd6oIqFEclKMM5N58JgKRMQ2mldOQzlhLjA&s\n",
      "https://encrypted-tbn0.gstatic.com/images?q=tbn:ANd9GcTjRYXqKpwxHkFa9Vz7wH-dkSRYDx0WPwGY5PpsmMSy5DETP_ts5F9K5Hf9qw&s\n",
      "https://encrypted-tbn0.gstatic.com/images?q=tbn:ANd9GcTusUoIZefOmtZxzCuValw8DpVPzi_dNn0kkVyGOlgFkyaTmnT1yOS5VWEF9w&s\n",
      "https://encrypted-tbn0.gstatic.com/images?q=tbn:ANd9GcSfJCgKATw23OgNQ8LdpiHjSnP3yxiXy6QNW-9TWcAjXjO-6SAk-o4p8is4ZfU&s\n",
      "https://encrypted-tbn0.gstatic.com/images?q=tbn:ANd9GcR4H1tODU7ci3j_sZPAsa3IwCtShkuOoQJwuatTyxpI9ELu0MkurKMtiH2q2p0&s\n",
      "https://encrypted-tbn0.gstatic.com/images?q=tbn:ANd9GcTWjH0Af_GHhTas7AFLqYbdxSi0MLkkXJcosITpIigPKmhTWVGSBU7oUHIychE&s\n",
      "https://encrypted-tbn0.gstatic.com/images?q=tbn:ANd9GcTtbMsLczJQk_a9lgPzbOS5Ts1fSkq84jNYEwOiTQmiMnagwdn-Ak5WTDYlpg&s\n"
     ]
    }
   ],
   "source": [
    "\n",
    "for i in image_tags:\n",
    "    image_url = i[\"src\"] # getting image link\n",
    "    print(image_url)\n",
    "    image_data=requests.get(image_url).content # getting data in the format of byte code\n",
    "\n",
    "    # creating savable object\n",
    "    with open((os.path.join(save_dir, f\"{query}_{image_tags.index(i)}.jpeg\")), \"wb\") as f:\n",
    "        f.write(image_data)"
   ]
  }
 ],
 "metadata": {
  "kernelspec": {
   "display_name": "Python 3",
   "language": "python",
   "name": "python3"
  },
  "language_info": {
   "codemirror_mode": {
    "name": "ipython",
    "version": 3
   },
   "file_extension": ".py",
   "mimetype": "text/x-python",
   "name": "python",
   "nbconvert_exporter": "python",
   "pygments_lexer": "ipython3",
   "version": "3.8.0"
  }
 },
 "nbformat": 4,
 "nbformat_minor": 2
}
